{
 "cells": [
  {
   "cell_type": "code",
   "execution_count": 1,
   "id": "85818eda",
   "metadata": {},
   "outputs": [],
   "source": [
    "# Importing the Keras libraries and packages\n",
    "#import pretrainded models\n",
    "from keras.applications.vgg16 import VGG16\n",
    "from tensorflow.keras.applications.resnet50 import ResNet50\n",
    "from keras.applications.vgg19 import VGG19\n",
    "#import packages\n",
    "from keras.models import Model\n",
    "from keras.preprocessing import image\n",
    "from tensorflow.keras.layers import Input, Lambda ,Dense ,Flatten ,Dropout\n",
    "import numpy as np\n",
    "import tensorflow as tf\n",
    "import pandas as pd\n",
    "import keras\n",
    "import matplotlib.pyplot as plt\n",
    "%matplotlib inline\n",
    "import os\n",
    "import cv2\n",
    "from tensorflow.keras.preprocessing.image import load_img,img_to_array\n",
    "from sklearn.model_selection import train_test_split\n",
    "from keras.utils.np_utils import to_categorical"
   ]
  },
  {
   "cell_type": "code",
   "execution_count": 2,
   "id": "9243601e",
   "metadata": {},
   "outputs": [],
   "source": [
    "def load_image_data(directory):\n",
    "    \n",
    "    images = []\n",
    "    labels = []\n",
    "    for label in sorted(os.listdir(directory)):\n",
    "        for image in os.listdir(directory + \"/\" + label ):\n",
    "            img = cv2.resize(cv2.imread(directory + \"/\" + label+ \"/\" +image), (300, 300))\n",
    "            images.append(img)\n",
    "            labels.append(label)\n",
    "    images = np.array(images)\n",
    "    labels = np.array(labels)\n",
    "    return (images,labels)"
   ]
  },
  {
   "cell_type": "code",
   "execution_count": 3,
   "id": "d2f75f51",
   "metadata": {},
   "outputs": [],
   "source": [
    "x_test,y_test=load_image_data('vgg/test')"
   ]
  },
  {
   "cell_type": "code",
   "execution_count": 4,
   "id": "5af29841",
   "metadata": {},
   "outputs": [
    {
     "data": {
      "text/plain": [
       "125"
      ]
     },
     "execution_count": 4,
     "metadata": {},
     "output_type": "execute_result"
    }
   ],
   "source": [
    "len(x_test)"
   ]
  },
  {
   "cell_type": "code",
   "execution_count": 5,
   "id": "c131ba2f",
   "metadata": {},
   "outputs": [],
   "source": [
    "x_test=x_test.astype(float)/255.0"
   ]
  },
  {
   "cell_type": "code",
   "execution_count": 6,
   "id": "03a13fc6",
   "metadata": {},
   "outputs": [],
   "source": [
    "x_test1= np.expand_dims(x_test, axis = 1)"
   ]
  },
  {
   "cell_type": "code",
   "execution_count": 7,
   "id": "bb85521f",
   "metadata": {},
   "outputs": [
    {
     "data": {
      "text/plain": [
       "(1, 300, 300, 3)"
      ]
     },
     "execution_count": 7,
     "metadata": {},
     "output_type": "execute_result"
    }
   ],
   "source": [
    "x_test1[0].shape"
   ]
  },
  {
   "cell_type": "code",
   "execution_count": 8,
   "id": "d4e63103",
   "metadata": {},
   "outputs": [
    {
     "data": {
      "text/plain": [
       "array([1., 0., 0., 0., 0.], dtype=float32)"
      ]
     },
     "execution_count": 8,
     "metadata": {},
     "output_type": "execute_result"
    }
   ],
   "source": [
    "from sklearn.preprocessing import LabelEncoder\n",
    "le = LabelEncoder()\n",
    "y_test_cat = le.fit_transform(y_test)\n",
    "y_test_cat = to_categorical(y_test_cat)\n",
    "y_test_cat[0]"
   ]
  },
  {
   "cell_type": "code",
   "execution_count": 9,
   "id": "14618ea7",
   "metadata": {},
   "outputs": [],
   "source": [
    "model= keras.models.load_model(\"model.h5\")"
   ]
  },
  {
   "cell_type": "code",
   "execution_count": 10,
   "id": "b365fd0d",
   "metadata": {},
   "outputs": [],
   "source": [
    "import cv2\n",
    "from cvzone.HandTrackingModule import HandDetector\n",
    "import numpy as np\n",
    "import math\n",
    "import time\n",
    "import os"
   ]
  },
  {
   "cell_type": "code",
   "execution_count": 11,
   "id": "1cdd9219",
   "metadata": {},
   "outputs": [],
   "source": [
    "labels=list(np.unique(y_test))"
   ]
  },
  {
   "cell_type": "code",
   "execution_count": 16,
   "id": "0b45ff37",
   "metadata": {},
   "outputs": [
    {
     "name": "stdout",
     "output_type": "stream",
     "text": [
      "1/1 [==============================] - 0s 160ms/step\n",
      "[[5.9870746e-25 0.0000000e+00 0.0000000e+00 1.0000000e+00 0.0000000e+00]] 3\n",
      "1/1 [==============================] - 0s 164ms/step\n",
      "[[1. 0. 0. 0. 0.]] 0\n",
      "1/1 [==============================] - 0s 160ms/step\n",
      "[[1. 0. 0. 0. 0.]] 0\n",
      "1/1 [==============================] - 0s 162ms/step\n",
      "[[1. 0. 0. 0. 0.]] 0\n",
      "1/1 [==============================] - 0s 164ms/step\n",
      "[[1. 0. 0. 0. 0.]] 0\n",
      "1/1 [==============================] - 0s 163ms/step\n",
      "[[1. 0. 0. 0. 0.]] 0\n",
      "1/1 [==============================] - 0s 162ms/step\n",
      "[[1.0000000e+00 0.0000000e+00 0.0000000e+00 6.9593605e-35 0.0000000e+00]] 0\n",
      "1/1 [==============================] - 0s 160ms/step\n",
      "1/1 [==============================] - 0s 159ms/step\n",
      "1/1 [==============================] - 0s 161ms/step\n",
      "1/1 [==============================] - 0s 166ms/step\n",
      "1/1 [==============================] - 0s 160ms/step\n",
      "1/1 [==============================] - 0s 167ms/step\n",
      "1/1 [==============================] - 0s 160ms/step\n",
      "1/1 [==============================] - 0s 161ms/step\n",
      "1/1 [==============================] - 0s 160ms/step\n",
      "[[0.0000000e+00 0.0000000e+00 0.0000000e+00 7.0186974e-23 1.0000000e+00]] 4\n",
      "1/1 [==============================] - 0s 163ms/step\n",
      "[[0.00000000e+00 0.00000000e+00 0.00000000e+00 1.01671685e-30\n",
      "  1.00000000e+00]] 4\n",
      "1/1 [==============================] - 0s 162ms/step\n",
      "[[0.0000000e+00 0.0000000e+00 0.0000000e+00 3.5929372e-35 1.0000000e+00]] 4\n",
      "1/1 [==============================] - 0s 164ms/step\n",
      "[[0.0000000e+00 0.0000000e+00 0.0000000e+00 1.0000000e+00 1.2336474e-32]] 3\n",
      "1/1 [==============================] - 0s 163ms/step\n",
      "[[0.0000000e+00 0.0000000e+00 0.0000000e+00 1.0000000e+00 1.9683277e-09]] 3\n",
      "1/1 [==============================] - 0s 165ms/step\n",
      "[[0.0000000e+00 0.0000000e+00 0.0000000e+00 1.0000000e+00 2.1464532e-30]] 3\n",
      "1/1 [==============================] - 0s 162ms/step\n",
      "[[0. 0. 0. 1. 0.]] 3\n",
      "1/1 [==============================] - 0s 164ms/step\n",
      "[[0.0000000e+00 0.0000000e+00 0.0000000e+00 1.0000000e+00 2.1016176e-28]] 3\n",
      "1/1 [==============================] - 0s 161ms/step\n",
      "[[0.0000000e+00 0.0000000e+00 0.0000000e+00 4.1233626e-13 1.0000000e+00]] 4\n",
      "1/1 [==============================] - 0s 164ms/step\n",
      "1/1 [==============================] - 0s 162ms/step\n",
      "1/1 [==============================] - 0s 163ms/step\n",
      "1/1 [==============================] - 0s 163ms/step\n",
      "1/1 [==============================] - 0s 162ms/step\n",
      "1/1 [==============================] - 0s 167ms/step\n",
      "1/1 [==============================] - 0s 162ms/step\n",
      "1/1 [==============================] - 0s 163ms/step\n",
      "[[0. 0. 0. 0. 1.]] 4\n",
      "1/1 [==============================] - 0s 164ms/step\n",
      "[[0. 0. 0. 0. 1.]] 4\n",
      "1/1 [==============================] - 0s 163ms/step\n",
      "1/1 [==============================] - 0s 164ms/step\n",
      "1/1 [==============================] - 0s 162ms/step\n",
      "1/1 [==============================] - 0s 163ms/step\n",
      "1/1 [==============================] - 0s 168ms/step\n",
      "1/1 [==============================] - 0s 163ms/step\n",
      "1/1 [==============================] - 0s 163ms/step\n",
      "1/1 [==============================] - 0s 161ms/step\n",
      "1/1 [==============================] - 0s 165ms/step\n",
      "1/1 [==============================] - 0s 163ms/step\n",
      "1/1 [==============================] - 0s 165ms/step\n",
      "1/1 [==============================] - 0s 168ms/step\n",
      "1/1 [==============================] - 0s 166ms/step\n",
      "1/1 [==============================] - 0s 165ms/step\n",
      "1/1 [==============================] - 0s 163ms/step\n",
      "1/1 [==============================] - 0s 161ms/step\n",
      "1/1 [==============================] - 0s 163ms/step\n",
      "1/1 [==============================] - 0s 162ms/step\n",
      "1/1 [==============================] - 0s 164ms/step\n",
      "1/1 [==============================] - 0s 165ms/step\n",
      "1/1 [==============================] - 0s 163ms/step\n",
      "1/1 [==============================] - 0s 162ms/step\n",
      "[[1. 0. 0. 0. 0.]] 0\n",
      "1/1 [==============================] - 0s 165ms/step\n",
      "[[0. 0. 0. 1. 0.]] 3\n",
      "1/1 [==============================] - 0s 165ms/step\n",
      "[[0. 0. 0. 1. 0.]] 3\n",
      "1/1 [==============================] - 0s 163ms/step\n",
      "1/1 [==============================] - 0s 166ms/step\n",
      "[[0. 0. 0. 1. 0.]] 3\n",
      "1/1 [==============================] - 0s 162ms/step\n",
      "[[0. 0. 0. 1. 0.]] 3\n",
      "1/1 [==============================] - 0s 167ms/step\n",
      "[[0. 0. 0. 1. 0.]] 3\n",
      "1/1 [==============================] - 0s 165ms/step\n",
      "[[0. 0. 0. 1. 0.]] 3\n",
      "1/1 [==============================] - 0s 164ms/step\n",
      "[[0. 0. 0. 1. 0.]] 3\n",
      "1/1 [==============================] - 0s 164ms/step\n",
      "[[0. 0. 0. 1. 0.]] 3\n",
      "1/1 [==============================] - 0s 164ms/step\n",
      "1/1 [==============================] - 0s 164ms/step\n",
      "1/1 [==============================] - 0s 166ms/step\n",
      "1/1 [==============================] - 0s 163ms/step\n",
      "[[0. 0. 0. 1. 0.]] 3\n",
      "1/1 [==============================] - 0s 167ms/step\n",
      "[[0. 0. 0. 1. 0.]] 3\n",
      "1/1 [==============================] - 0s 163ms/step\n",
      "[[0. 0. 0. 1. 0.]] 3\n",
      "1/1 [==============================] - 0s 165ms/step\n",
      "[[0. 0. 0. 1. 0.]] 3\n",
      "1/1 [==============================] - 0s 162ms/step\n",
      "[[0. 0. 0. 1. 0.]] 3\n"
     ]
    },
    {
     "ename": "AttributeError",
     "evalue": "'NoneType' object has no attribute 'copy'",
     "output_type": "error",
     "traceback": [
      "\u001b[1;31m---------------------------------------------------------------------------\u001b[0m",
      "\u001b[1;31mAttributeError\u001b[0m                            Traceback (most recent call last)",
      "\u001b[1;32m~\\AppData\\Local\\Temp\\ipykernel_12556\\2034720235.py\u001b[0m in \u001b[0;36m<module>\u001b[1;34m\u001b[0m\n\u001b[0;32m     10\u001b[0m \u001b[1;32mwhile\u001b[0m \u001b[1;32mTrue\u001b[0m\u001b[1;33m:\u001b[0m\u001b[1;33m\u001b[0m\u001b[1;33m\u001b[0m\u001b[0m\n\u001b[0;32m     11\u001b[0m     \u001b[0msuccess\u001b[0m\u001b[1;33m,\u001b[0m \u001b[0mimg\u001b[0m \u001b[1;33m=\u001b[0m \u001b[0mcap\u001b[0m\u001b[1;33m.\u001b[0m\u001b[0mread\u001b[0m\u001b[1;33m(\u001b[0m\u001b[1;33m)\u001b[0m\u001b[1;33m\u001b[0m\u001b[1;33m\u001b[0m\u001b[0m\n\u001b[1;32m---> 12\u001b[1;33m     \u001b[0mimgOutput\u001b[0m \u001b[1;33m=\u001b[0m \u001b[0mimg\u001b[0m\u001b[1;33m.\u001b[0m\u001b[0mcopy\u001b[0m\u001b[1;33m(\u001b[0m\u001b[1;33m)\u001b[0m\u001b[1;33m\u001b[0m\u001b[1;33m\u001b[0m\u001b[0m\n\u001b[0m\u001b[0;32m     13\u001b[0m     \u001b[0mhands\u001b[0m\u001b[1;33m,\u001b[0m \u001b[0mimg\u001b[0m \u001b[1;33m=\u001b[0m \u001b[0mdetector\u001b[0m\u001b[1;33m.\u001b[0m\u001b[0mfindHands\u001b[0m\u001b[1;33m(\u001b[0m\u001b[0mimg\u001b[0m\u001b[1;33m)\u001b[0m\u001b[1;33m\u001b[0m\u001b[1;33m\u001b[0m\u001b[0m\n\u001b[0;32m     14\u001b[0m     \u001b[1;32mif\u001b[0m \u001b[0mhands\u001b[0m\u001b[1;33m:\u001b[0m\u001b[1;33m\u001b[0m\u001b[1;33m\u001b[0m\u001b[0m\n",
      "\u001b[1;31mAttributeError\u001b[0m: 'NoneType' object has no attribute 'copy'"
     ]
    }
   ],
   "source": [
    "cap = cv2.VideoCapture(0)\n",
    "detector = HandDetector(maxHands=1)\n",
    "\n",
    " \n",
    "offset = 20\n",
    "imgSize = 300\n",
    "  \n",
    "#labels = [\"Hello\", \"Thumbs up\"]\n",
    " \n",
    "while True:\n",
    "    success, img = cap.read()\n",
    "    imgOutput = img.copy()\n",
    "    hands, img = detector.findHands(img)\n",
    "    if hands:\n",
    "        hand = hands[0]\n",
    "        x, y, w, h = hand['bbox']\n",
    " \n",
    "        imgWhite = np.ones((imgSize, imgSize, 3), np.uint8) * 255\n",
    "        imgCrop = img[y - offset:y + h + offset, x - offset:x + w + offset]\n",
    " \n",
    "        imgCropShape = imgCrop.shape\n",
    " \n",
    "        aspectRatio = h / w\n",
    " \n",
    "        if aspectRatio > 1:\n",
    "            k = imgSize / h\n",
    "            wCal = math.ceil(k * w)\n",
    "            imgResize = cv2.resize(imgCrop, (wCal, imgSize))\n",
    "            imgResizeShape = imgResize.shape\n",
    "            wGap = math.ceil((imgSize - wCal) / 2)\n",
    "            imgWhite[:, wGap:wCal + wGap] = imgResize\n",
    "            imgWhite1=imgWhite.reshape(1,300,300,3)\n",
    "            prediction= model.predict(imgWhite1)\n",
    "            index=np.argmax(prediction)\n",
    "            print(prediction, index)\n",
    " \n",
    "        else:\n",
    "            k = imgSize / w\n",
    "            hCal = math.ceil(k * h)\n",
    "            imgResize = cv2.resize(imgCrop, (imgSize, hCal))\n",
    "            imgResizeShape = imgResize.shape\n",
    "            hGap = math.ceil((imgSize - hCal) / 2)\n",
    "            imgWhite[hGap:hCal + hGap, :] = imgResize\n",
    "            imgWhite1=imgWhite.reshape(1,300,300,3)\n",
    "            prediction= model.predict(imgWhite1)\n",
    "            index=np.argmax(prediction)\n",
    "            #print(prediction, index)\n",
    " \n",
    " \n",
    "        cv2.rectangle(imgOutput, (x - offset, y - offset-50),\n",
    "                      (x - offset+90, y - offset-50+50), (255, 0, 255), cv2.FILLED)\n",
    "        cv2.putText(imgOutput, labels[index], (x, y -26), cv2.FONT_HERSHEY_COMPLEX, 1.7, (255, 255, 255), 2)\n",
    "        cv2.rectangle(imgOutput, (x-offset, y-offset),\n",
    "                      (x + w+offset, y + h+offset), (255, 0, 255), 4)\n",
    " \n",
    " \n",
    "#         cv2.imshow(\"ImageCrop\", imgCrop)\n",
    "#         cv2.imshow(\"ImageWhite\", imgWhite)\n",
    " \n",
    "    cv2.imshow(\"Image\", imgOutput)\n",
    "    cv2.waitKey(1)\n",
    "    if cv2.waitKey(1) & 0xFF == ord('q'):\n",
    "        cap.release()\n",
    "        cv2.destroyAllWindows()"
   ]
  },
  {
   "cell_type": "code",
   "execution_count": 15,
   "id": "f6a4990f",
   "metadata": {},
   "outputs": [
    {
     "ename": "NameError",
     "evalue": "name 'q' is not defined",
     "output_type": "error",
     "traceback": [
      "\u001b[1;31m---------------------------------------------------------------------------\u001b[0m",
      "\u001b[1;31mNameError\u001b[0m                                 Traceback (most recent call last)",
      "\u001b[1;32m~\\AppData\\Local\\Temp\\ipykernel_12556\\2044696608.py\u001b[0m in \u001b[0;36m<module>\u001b[1;34m\u001b[0m\n\u001b[1;32m----> 1\u001b[1;33m \u001b[0mq\u001b[0m\u001b[1;33m\u001b[0m\u001b[1;33m\u001b[0m\u001b[0m\n\u001b[0m",
      "\u001b[1;31mNameError\u001b[0m: name 'q' is not defined"
     ]
    }
   ],
   "source": [
    "q"
   ]
  },
  {
   "cell_type": "code",
   "execution_count": null,
   "id": "2b0b8a62",
   "metadata": {},
   "outputs": [],
   "source": []
  }
 ],
 "metadata": {
  "kernelspec": {
   "display_name": "Python 3",
   "language": "python",
   "name": "python3"
  },
  "language_info": {
   "codemirror_mode": {
    "name": "ipython",
    "version": 3
   },
   "file_extension": ".py",
   "mimetype": "text/x-python",
   "name": "python",
   "nbconvert_exporter": "python",
   "pygments_lexer": "ipython3",
   "version": "3.8.8"
  }
 },
 "nbformat": 4,
 "nbformat_minor": 5
}
